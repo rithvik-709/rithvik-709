{
 "cells": [
  {
   "cell_type": "code",
   "execution_count": 49,
   "id": "be2fa269",
   "metadata": {},
   "outputs": [],
   "source": [
    "values = {'Two':2,'Three':3,'Four':4,'Five':5,'Six':6,'Seven':7,'Eight':8,'Nine':9,'Ten':10,'Jack':11,\n",
    "          'Queen':12,'King':13,'Ace':14}\n",
    "suits = ['Hearts','Diamonds','Clubs','Spades']\n",
    "ranks = ['Two','Three','Four','Five','Six','Seven','Eight','Nine','Ten','Jack','Queen','King','Ace']"
   ]
  },
  {
   "cell_type": "markdown",
   "id": "7df8ba17",
   "metadata": {},
   "source": [
    "# Card Class"
   ]
  },
  {
   "cell_type": "code",
   "execution_count": 50,
   "id": "4264ec3f",
   "metadata": {},
   "outputs": [],
   "source": [
    "class Card:\n",
    "    \n",
    "    def __init__(self,suit,rank):\n",
    "        \n",
    "        self.suit = suit\n",
    "        self.rank = rank\n",
    "        self.values = values[rank]\n",
    "        \n",
    "    def __str__(self):\n",
    "        return f'{self.suit} of {self.rank}'"
   ]
  },
  {
   "cell_type": "markdown",
   "id": "891d90df",
   "metadata": {},
   "source": [
    "# Deck Class"
   ]
  },
  {
   "cell_type": "code",
   "execution_count": 51,
   "id": "9858f9a3",
   "metadata": {},
   "outputs": [],
   "source": [
    "import random\n",
    "\n",
    "class Deck:\n",
    "    \n",
    "    def __init__(self):\n",
    "        \n",
    "        self.cards = []\n",
    "        \n",
    "        for suit in suits:\n",
    "            for rank in ranks:\n",
    "                #here the for loop is iterating through all the different cards that it could create from the global \n",
    "                #variables in the first cell of the notebook.\n",
    "                self.cards.append(Card(suit,rank))\n",
    "                \n",
    "    def shuffle_cards(self):\n",
    "        \n",
    "        random.shuffle(self.cards)\n",
    "        \n",
    "    def deal_cards(self):\n",
    "        \n",
    "        self.cards.pop(0)"
   ]
  },
  {
   "cell_type": "markdown",
   "id": "3810bdf9",
   "metadata": {},
   "source": [
    "# Player Class"
   ]
  },
  {
   "cell_type": "code",
   "execution_count": 52,
   "id": "1fc2916f",
   "metadata": {},
   "outputs": [],
   "source": [
    "class Player:\n",
    "    \n",
    "    def __init__(self,name):\n",
    "        \n",
    "        self.name = name\n",
    "        self.cards = []\n",
    "        \n",
    "    def add_cards(self,new_card):\n",
    "        \n",
    "        if type(new_card) == type([]):\n",
    "            self.cards.extend(new_card)\n",
    "        else:\n",
    "            self.cards.append(new_card)\n",
    "        \n",
    "    def remove_cards(self):\n",
    "        \n",
    "        return self.cards.pop(0)\n",
    "\n",
    "        \n",
    "    def __str__(self):\n",
    "            print('Player {} has {} cards'.format(self.name,len(self.cards)))"
   ]
  },
  {
   "cell_type": "markdown",
   "id": "006b6953",
   "metadata": {},
   "source": [
    "# Logic"
   ]
  },
  {
   "cell_type": "code",
   "execution_count": 56,
   "id": "5bbddfb9",
   "metadata": {},
   "outputs": [
    {
     "name": "stdout",
     "output_type": "stream",
     "text": [
      "Round 1\n"
     ]
    },
    {
     "ename": "AttributeError",
     "evalue": "'NoneType' object has no attribute 'value'",
     "output_type": "error",
     "traceback": [
      "\u001b[0;31m---------------------------------------------------------------------------\u001b[0m",
      "\u001b[0;31mAttributeError\u001b[0m                            Traceback (most recent call last)",
      "\u001b[0;32m/var/folders/w_/cbb2ddwd4hz050b9xz8tch6w0000gp/T/ipykernel_40475/2378591217.py\u001b[0m in \u001b[0;36m<module>\u001b[0;34m\u001b[0m\n\u001b[1;32m     35\u001b[0m     \u001b[0mplayer_two_cards\u001b[0m\u001b[0;34m.\u001b[0m\u001b[0mappend\u001b[0m\u001b[0;34m(\u001b[0m\u001b[0mplayer_1\u001b[0m\u001b[0;34m.\u001b[0m\u001b[0mremove_cards\u001b[0m\u001b[0;34m(\u001b[0m\u001b[0;34m)\u001b[0m\u001b[0;34m)\u001b[0m\u001b[0;34m\u001b[0m\u001b[0;34m\u001b[0m\u001b[0m\n\u001b[1;32m     36\u001b[0m \u001b[0;34m\u001b[0m\u001b[0m\n\u001b[0;32m---> 37\u001b[0;31m     \u001b[0;32mif\u001b[0m \u001b[0mplayer_one_cards\u001b[0m\u001b[0;34m[\u001b[0m\u001b[0;34m-\u001b[0m\u001b[0;36m1\u001b[0m\u001b[0;34m]\u001b[0m\u001b[0;34m.\u001b[0m\u001b[0mvalue\u001b[0m \u001b[0;34m>\u001b[0m \u001b[0mplayer_two_cards\u001b[0m\u001b[0;34m[\u001b[0m\u001b[0;34m-\u001b[0m\u001b[0;36m1\u001b[0m\u001b[0;34m]\u001b[0m\u001b[0;34m.\u001b[0m\u001b[0mvalue\u001b[0m\u001b[0;34m:\u001b[0m\u001b[0;34m\u001b[0m\u001b[0;34m\u001b[0m\u001b[0m\n\u001b[0m\u001b[1;32m     38\u001b[0m \u001b[0;34m\u001b[0m\u001b[0m\n\u001b[1;32m     39\u001b[0m         \u001b[0mplayer_1\u001b[0m\u001b[0;34m.\u001b[0m\u001b[0madd_cards\u001b[0m\u001b[0;34m(\u001b[0m\u001b[0mplayer_1_cards\u001b[0m\u001b[0;34m)\u001b[0m\u001b[0;34m\u001b[0m\u001b[0;34m\u001b[0m\u001b[0m\n",
      "\u001b[0;31mAttributeError\u001b[0m: 'NoneType' object has no attribute 'value'"
     ]
    }
   ],
   "source": [
    "player_1 = Player('Player 1')\n",
    "player_2 = Player('Player 2')\n",
    "\n",
    "#Creation of deck\n",
    "deck = Deck()\n",
    "deck.shuffle_cards()\n",
    "\n",
    "#dealing cards\n",
    "for x in range(26):\n",
    "    player_1.add_cards(deck.deal_cards())\n",
    "    player_2.add_cards(deck.deal_cards())\n",
    "\n",
    "game_round = 0\n",
    "    \n",
    "game_on = True\n",
    "while game_on:\n",
    "    \n",
    "    game_round += 1\n",
    "    print(f'Round {game_round}')\n",
    "    \n",
    "    #win check\n",
    "    if len(player_1.cards) == 0:\n",
    "        print('Player 1 has no cards. Player 2 has won')\n",
    "        game_on = False\n",
    "    if len(player_2.cards) == 0:\n",
    "        print('Player 2 has no cards. Player 1 has won')\n",
    "        game_on = False\n",
    "    \n",
    "    #gameplay\n",
    "    \n",
    "    player_one_cards = []\n",
    "    player_one_cards.append(player_1.remove_cards())\n",
    "    \n",
    "    player_two_cards = []\n",
    "    player_two_cards.append(player_1.remove_cards())\n",
    "    \n",
    "    if player_one_cards[-1].value > player_two_cards[-1].value:\n",
    "        \n",
    "        player_1.add_cards(player_1_cards)\n",
    "        player_1.add_cards(player_2_cards)\n",
    "        \n",
    "    elif player_one_cards[-1].value < player_two_cards[-1].value:\n",
    "        \n",
    "        player_2.add_cards(player_1_cards)\n",
    "        player_2.add_cards(player_2_cards)\n",
    "        \n",
    "    elif player_one_cards[-1].value == player_two_cards[-1].value:\n",
    "        \n",
    "        at_war = True\n",
    "        print('WAR')\n",
    "            \n",
    "        while at_war:\n",
    "                \n",
    "                    \n",
    "            if len(player_1.cards) < 5:\n",
    "                    print('Player 1 does not have enough cards to play. Player 2 wins')\n",
    "                    at_war = False\n",
    "                    game_on = False\n",
    "\n",
    "            elif len(player_2.cards) < 5:\n",
    "                    print('Player 2 does not have enough cards to play. Player 2 wins')\n",
    "                    at_war = False\n",
    "                    game_on = False\n",
    "                    \n",
    "            else:\n",
    "                        \n",
    "                card_1_value = values[player_1_cards]\n",
    "                card_2_value = values[player_2_cards]\n",
    "\n",
    "                if card_1_value > card_2_value:\n",
    "                    player_1.add_cards(player_1_cards)\n",
    "                    player_2.add_cards(player_1_cards)\n",
    "                    at_war = False\n",
    "                    break\n",
    "\n",
    "                elif card_1_value < card_2_value:\n",
    "                    player_2.add_cards(player_1_cards)\n",
    "                    player_2.add_cards(player_2_cards)\n",
    "                    at_war = False\n",
    "                    break"
   ]
  },
  {
   "cell_type": "code",
   "execution_count": 57,
   "id": "7307114a",
   "metadata": {},
   "outputs": [
    {
     "data": {
      "text/plain": [
       "[None]"
      ]
     },
     "execution_count": 57,
     "metadata": {},
     "output_type": "execute_result"
    }
   ],
   "source": [
    "player_one_cards"
   ]
  },
  {
   "cell_type": "code",
   "execution_count": null,
   "id": "2586bcfa",
   "metadata": {},
   "outputs": [],
   "source": []
  }
 ],
 "metadata": {
  "kernelspec": {
   "display_name": "Python 3 (ipykernel)",
   "language": "python",
   "name": "python3"
  },
  "language_info": {
   "codemirror_mode": {
    "name": "ipython",
    "version": 3
   },
   "file_extension": ".py",
   "mimetype": "text/x-python",
   "name": "python",
   "nbconvert_exporter": "python",
   "pygments_lexer": "ipython3",
   "version": "3.9.7"
  }
 },
 "nbformat": 4,
 "nbformat_minor": 5
}
